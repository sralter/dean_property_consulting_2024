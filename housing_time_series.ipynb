{
 "cells": [
  {
   "cell_type": "markdown",
   "metadata": {},
   "source": [
    "# Dean Property Consulting 2024"
   ]
  },
  {
   "cell_type": "markdown",
   "metadata": {},
   "source": [
    "## Imports and helper functions"
   ]
  },
  {
   "cell_type": "code",
   "execution_count": 117,
   "metadata": {},
   "outputs": [],
   "source": [
    "import pandas as pd\n",
    "import numpy as np\n",
    "import matplotlib.pyplot as plt\n",
    "import plotly.graph_objects as go\n",
    "import plotly.express as px\n",
    "import seaborn as sns\n",
    "\n",
    "from sklearn.preprocessing import MinMaxScaler\n",
    "from sklearn.metrics import mean_absolute_error, mean_squared_error, r2_score\n",
    "\n",
    "import torch\n",
    "from torch.utils.data import Dataset, DataLoader\n",
    "import torch.nn as nn"
   ]
  },
  {
   "cell_type": "code",
   "execution_count": 118,
   "metadata": {},
   "outputs": [
    {
     "data": {
      "text/plain": [
       "Generator(PCG64) at 0x313853A00"
      ]
     },
     "execution_count": 118,
     "metadata": {},
     "output_type": "execute_result"
    }
   ],
   "source": [
    "# simple function to generate random integers\n",
    "\n",
    "def rand_gen(low=1,high=1e4):\n",
    "    '''\n",
    "    Generates a pseudo-random integer\n",
    "    consisting of up to four digits\n",
    "    '''\n",
    "    import numpy as np\n",
    "    rng=np.random.default_rng()\n",
    "    random_state=int(rng.integers(low=low,high=high))\n",
    "    \n",
    "    return random_state\n",
    "\n",
    "seed=rand_gen()\n",
    "seed\n",
    "\n",
    "# save random seed for project\n",
    "with open('seed.txt', 'w') as file:\n",
    "    file.write(str(seed))\n",
    "\n",
    "# set the randomness seed throughout the notebook\n",
    "# source: # https://odsc.medium.com/properly-setting-the-random-seed-in-ml-experiments-not-as-simple-as-you-might-imagine-219969c84752\n",
    "\n",
    "## set `PYTHONHASHSEED` environment variable at a fixed value\n",
    "import os\n",
    "os.environ['PYTHONHASHSEED']=str(seed)\n",
    "## set `python` built-in pseudo-random generator at a fixed value\n",
    "import random\n",
    "random.seed(seed)\n",
    "## set `numpy` pseudo-random generator at a fixed value\n",
    "np.random.seed(seed)\n",
    "np.random.default_rng(seed)"
   ]
  },
  {
   "cell_type": "code",
   "execution_count": 119,
   "metadata": {},
   "outputs": [
    {
     "data": {
      "text/plain": [
       "3495"
      ]
     },
     "execution_count": 119,
     "metadata": {},
     "output_type": "execute_result"
    }
   ],
   "source": [
    "seed"
   ]
  },
  {
   "cell_type": "code",
   "execution_count": 120,
   "metadata": {},
   "outputs": [
    {
     "data": {
      "text/plain": [
       "<torch._C.Generator at 0x15d2cd4f0>"
      ]
     },
     "execution_count": 120,
     "metadata": {},
     "output_type": "execute_result"
    }
   ],
   "source": [
    "torch.manual_seed(seed)"
   ]
  },
  {
   "cell_type": "markdown",
   "metadata": {},
   "source": [
    "## Data preprocessing"
   ]
  },
  {
   "cell_type": "code",
   "execution_count": 121,
   "metadata": {},
   "outputs": [
    {
     "name": "stdout",
     "output_type": "stream",
     "text": [
      "(39687, 6)\n"
     ]
    },
    {
     "data": {
      "text/html": [
       "<div>\n",
       "<style scoped>\n",
       "    .dataframe tbody tr th:only-of-type {\n",
       "        vertical-align: middle;\n",
       "    }\n",
       "\n",
       "    .dataframe tbody tr th {\n",
       "        vertical-align: top;\n",
       "    }\n",
       "\n",
       "    .dataframe thead th {\n",
       "        text-align: right;\n",
       "    }\n",
       "</style>\n",
       "<table border=\"1\" class=\"dataframe\">\n",
       "  <thead>\n",
       "    <tr style=\"text-align: right;\">\n",
       "      <th></th>\n",
       "      <th>date</th>\n",
       "      <th>sale_ask</th>\n",
       "      <th>units</th>\n",
       "      <th>floors</th>\n",
       "      <th>sf</th>\n",
       "      <th>annual$</th>\n",
       "    </tr>\n",
       "  </thead>\n",
       "  <tbody>\n",
       "  </tbody>\n",
       "</table>\n",
       "</div>"
      ],
      "text/plain": [
       "Empty DataFrame\n",
       "Columns: [date, sale_ask, units, floors, sf, annual$]\n",
       "Index: []"
      ]
     },
     "execution_count": 121,
     "metadata": {},
     "output_type": "execute_result"
    }
   ],
   "source": [
    "# load dataset\n",
    "df = pd.read_csv('../data/df_lownull.csv', parse_dates=['DATE'])\n",
    "df = df.drop(columns=['Unnamed: 0'])\n",
    "\n",
    "# clean column names (lowercase and remove spaces)\n",
    "df.columns = [col.lower().replace(' ', '').replace('/', '_') for col in df.columns]\n",
    "\n",
    "# clean and convert columns\n",
    "df['annual$'] = df['annual$'].str.replace('$', '').str.replace(',', '').astype(float)\n",
    "df['date'] = df['date'].astype('datetime64[ns]')\n",
    "df['sale_ask'] = df['sale_ask'].astype('float')\n",
    "\n",
    "# clean the 'sf' column before filtering\n",
    "df['sf'] = (\n",
    "    df['sf']\n",
    "    .str.replace(',', '')             # remove commas\n",
    "    .str.replace(' \\t-  ', '')        # remove tabs\n",
    "    .str.replace(' ', '')             # remove spaces\n",
    "    .str.replace('$', '')             # remove $ signs\n",
    "    .str.replace('sf', '')            # remove extra letters\n",
    "    .replace('', np.nan)              # replace empty strings with nan\n",
    ")\n",
    "df['sf'] = df['sf'].astype('float')  # convert 'sf' to float\n",
    "\n",
    "# drop rows with nan values in specific columns\n",
    "df = df.dropna(subset=['date', 'sale_ask', 'units', 'floors', 'sf', 'annual$'])\n",
    "\n",
    "# drop rows where any of 'sf', 'units', or 'floors' equals zero\n",
    "df = df[~(df[['sf', 'units', 'floors']] == 0).any(axis=1)]\n",
    "\n",
    "# update and convert remaining columns\n",
    "df.at[12080, 'units'] = 1\n",
    "df['units'] = df['units'].astype('float')\n",
    "df['floors'] = df['floors'].astype('float')\n",
    "\n",
    "# check results\n",
    "print(df.shape)\n",
    "df[df['sf'] == 0]  # should return an empty dataframe"
   ]
  },
  {
   "cell_type": "code",
   "execution_count": 122,
   "metadata": {},
   "outputs": [
    {
     "name": "stdout",
     "output_type": "stream",
     "text": [
      "<class 'pandas.core.frame.DataFrame'>\n",
      "Index: 39687 entries, 0 to 40683\n",
      "Data columns (total 6 columns):\n",
      " #   Column    Non-Null Count  Dtype         \n",
      "---  ------    --------------  -----         \n",
      " 0   date      39687 non-null  datetime64[ns]\n",
      " 1   sale_ask  39687 non-null  float64       \n",
      " 2   units     39687 non-null  float64       \n",
      " 3   floors    39687 non-null  float64       \n",
      " 4   sf        39687 non-null  float64       \n",
      " 5   annual$   39687 non-null  float64       \n",
      "dtypes: datetime64[ns](1), float64(5)\n",
      "memory usage: 3.1 MB\n"
     ]
    }
   ],
   "source": [
    "df.info()"
   ]
  },
  {
   "cell_type": "code",
   "execution_count": 123,
   "metadata": {},
   "outputs": [
    {
     "data": {
      "text/html": [
       "<div>\n",
       "<style scoped>\n",
       "    .dataframe tbody tr th:only-of-type {\n",
       "        vertical-align: middle;\n",
       "    }\n",
       "\n",
       "    .dataframe tbody tr th {\n",
       "        vertical-align: top;\n",
       "    }\n",
       "\n",
       "    .dataframe thead th {\n",
       "        text-align: right;\n",
       "    }\n",
       "</style>\n",
       "<table border=\"1\" class=\"dataframe\">\n",
       "  <thead>\n",
       "    <tr style=\"text-align: right;\">\n",
       "      <th></th>\n",
       "      <th>date</th>\n",
       "      <th>sale_ask</th>\n",
       "      <th>units</th>\n",
       "      <th>floors</th>\n",
       "      <th>sf</th>\n",
       "      <th>annual$</th>\n",
       "    </tr>\n",
       "  </thead>\n",
       "  <tbody>\n",
       "    <tr>\n",
       "      <th>0</th>\n",
       "      <td>2010-01-03</td>\n",
       "      <td>770000.0</td>\n",
       "      <td>1.0</td>\n",
       "      <td>2.5</td>\n",
       "      <td>2722.0</td>\n",
       "      <td>36033.0</td>\n",
       "    </tr>\n",
       "    <tr>\n",
       "      <th>1</th>\n",
       "      <td>2010-01-06</td>\n",
       "      <td>1397478.0</td>\n",
       "      <td>2.0</td>\n",
       "      <td>3.0</td>\n",
       "      <td>3780.0</td>\n",
       "      <td>63202.0</td>\n",
       "    </tr>\n",
       "    <tr>\n",
       "      <th>2</th>\n",
       "      <td>2010-01-10</td>\n",
       "      <td>505000.0</td>\n",
       "      <td>1.0</td>\n",
       "      <td>1.0</td>\n",
       "      <td>800.0</td>\n",
       "      <td>30089.0</td>\n",
       "    </tr>\n",
       "    <tr>\n",
       "      <th>3</th>\n",
       "      <td>2010-01-11</td>\n",
       "      <td>450000.0</td>\n",
       "      <td>1.0</td>\n",
       "      <td>1.0</td>\n",
       "      <td>650.0</td>\n",
       "      <td>31473.0</td>\n",
       "    </tr>\n",
       "    <tr>\n",
       "      <th>4</th>\n",
       "      <td>2010-01-11</td>\n",
       "      <td>1530000.0</td>\n",
       "      <td>3.0</td>\n",
       "      <td>3.0</td>\n",
       "      <td>3200.0</td>\n",
       "      <td>69400.0</td>\n",
       "    </tr>\n",
       "  </tbody>\n",
       "</table>\n",
       "</div>"
      ],
      "text/plain": [
       "        date   sale_ask  units  floors      sf  annual$\n",
       "0 2010-01-03   770000.0    1.0     2.5  2722.0  36033.0\n",
       "1 2010-01-06  1397478.0    2.0     3.0  3780.0  63202.0\n",
       "2 2010-01-10   505000.0    1.0     1.0   800.0  30089.0\n",
       "3 2010-01-11   450000.0    1.0     1.0   650.0  31473.0\n",
       "4 2010-01-11  1530000.0    3.0     3.0  3200.0  69400.0"
      ]
     },
     "execution_count": 123,
     "metadata": {},
     "output_type": "execute_result"
    }
   ],
   "source": [
    "df.head()"
   ]
  },
  {
   "cell_type": "code",
   "execution_count": 124,
   "metadata": {},
   "outputs": [],
   "source": [
    "# save \n",
    "df.to_csv('../data/df_lownull_clean.csv')"
   ]
  },
  {
   "cell_type": "markdown",
   "metadata": {},
   "source": [
    "## Feature Engineering"
   ]
  },
  {
   "cell_type": "markdown",
   "metadata": {},
   "source": [
    "We want to extract some helpful information, like year, month, day of week, and quarter from the dataset."
   ]
  },
  {
   "cell_type": "code",
   "execution_count": 125,
   "metadata": {},
   "outputs": [
    {
     "data": {
      "text/html": [
       "<div>\n",
       "<style scoped>\n",
       "    .dataframe tbody tr th:only-of-type {\n",
       "        vertical-align: middle;\n",
       "    }\n",
       "\n",
       "    .dataframe tbody tr th {\n",
       "        vertical-align: top;\n",
       "    }\n",
       "\n",
       "    .dataframe thead th {\n",
       "        text-align: right;\n",
       "    }\n",
       "</style>\n",
       "<table border=\"1\" class=\"dataframe\">\n",
       "  <thead>\n",
       "    <tr style=\"text-align: right;\">\n",
       "      <th></th>\n",
       "      <th>date</th>\n",
       "      <th>sale_ask</th>\n",
       "      <th>units</th>\n",
       "      <th>floors</th>\n",
       "      <th>sf</th>\n",
       "      <th>annual$</th>\n",
       "      <th>year</th>\n",
       "      <th>month</th>\n",
       "      <th>day_of_week</th>\n",
       "      <th>quarter</th>\n",
       "      <th>ppsf</th>\n",
       "    </tr>\n",
       "  </thead>\n",
       "  <tbody>\n",
       "    <tr>\n",
       "      <th>0</th>\n",
       "      <td>2010-01-03</td>\n",
       "      <td>770000.0</td>\n",
       "      <td>1.0</td>\n",
       "      <td>2.5</td>\n",
       "      <td>2722.0</td>\n",
       "      <td>36033.0</td>\n",
       "      <td>2010</td>\n",
       "      <td>1</td>\n",
       "      <td>6</td>\n",
       "      <td>1</td>\n",
       "      <td>282.880235</td>\n",
       "    </tr>\n",
       "    <tr>\n",
       "      <th>1</th>\n",
       "      <td>2010-01-06</td>\n",
       "      <td>1397478.0</td>\n",
       "      <td>2.0</td>\n",
       "      <td>3.0</td>\n",
       "      <td>3780.0</td>\n",
       "      <td>63202.0</td>\n",
       "      <td>2010</td>\n",
       "      <td>1</td>\n",
       "      <td>2</td>\n",
       "      <td>1</td>\n",
       "      <td>369.703175</td>\n",
       "    </tr>\n",
       "    <tr>\n",
       "      <th>2</th>\n",
       "      <td>2010-01-10</td>\n",
       "      <td>505000.0</td>\n",
       "      <td>1.0</td>\n",
       "      <td>1.0</td>\n",
       "      <td>800.0</td>\n",
       "      <td>30089.0</td>\n",
       "      <td>2010</td>\n",
       "      <td>1</td>\n",
       "      <td>6</td>\n",
       "      <td>1</td>\n",
       "      <td>631.250000</td>\n",
       "    </tr>\n",
       "    <tr>\n",
       "      <th>3</th>\n",
       "      <td>2010-01-11</td>\n",
       "      <td>450000.0</td>\n",
       "      <td>1.0</td>\n",
       "      <td>1.0</td>\n",
       "      <td>650.0</td>\n",
       "      <td>31473.0</td>\n",
       "      <td>2010</td>\n",
       "      <td>1</td>\n",
       "      <td>0</td>\n",
       "      <td>1</td>\n",
       "      <td>692.307692</td>\n",
       "    </tr>\n",
       "    <tr>\n",
       "      <th>4</th>\n",
       "      <td>2010-01-11</td>\n",
       "      <td>1530000.0</td>\n",
       "      <td>3.0</td>\n",
       "      <td>3.0</td>\n",
       "      <td>3200.0</td>\n",
       "      <td>69400.0</td>\n",
       "      <td>2010</td>\n",
       "      <td>1</td>\n",
       "      <td>0</td>\n",
       "      <td>1</td>\n",
       "      <td>478.125000</td>\n",
       "    </tr>\n",
       "  </tbody>\n",
       "</table>\n",
       "</div>"
      ],
      "text/plain": [
       "        date   sale_ask  units  floors      sf  annual$  year  month  \\\n",
       "0 2010-01-03   770000.0    1.0     2.5  2722.0  36033.0  2010      1   \n",
       "1 2010-01-06  1397478.0    2.0     3.0  3780.0  63202.0  2010      1   \n",
       "2 2010-01-10   505000.0    1.0     1.0   800.0  30089.0  2010      1   \n",
       "3 2010-01-11   450000.0    1.0     1.0   650.0  31473.0  2010      1   \n",
       "4 2010-01-11  1530000.0    3.0     3.0  3200.0  69400.0  2010      1   \n",
       "\n",
       "   day_of_week  quarter        ppsf  \n",
       "0            6        1  282.880235  \n",
       "1            2        1  369.703175  \n",
       "2            6        1  631.250000  \n",
       "3            0        1  692.307692  \n",
       "4            0        1  478.125000  "
      ]
     },
     "execution_count": 125,
     "metadata": {},
     "output_type": "execute_result"
    }
   ],
   "source": [
    "df['year'] = df['date'].dt.year\n",
    "df['month'] = df['date'].dt.month\n",
    "df['day_of_week'] = df['date'].dt.day_of_week\n",
    "df['quarter'] = df['date'].dt.quarter\n",
    "df['ppsf'] = df['sale_ask']/df['sf'] # price per square foot\n",
    "df.head()"
   ]
  },
  {
   "cell_type": "code",
   "execution_count": 169,
   "metadata": {},
   "outputs": [],
   "source": [
    "# save csv\n",
    "df.to_csv('../data/df_lownull_clean.csv')"
   ]
  },
  {
   "cell_type": "markdown",
   "metadata": {},
   "source": [
    "## Model selection"
   ]
  },
  {
   "cell_type": "markdown",
   "metadata": {},
   "source": [
    "To select the appropriate model, we first should inspect the nature of the data with some plotting. Let's see what the sales per month are like:"
   ]
  },
  {
   "cell_type": "code",
   "execution_count": 126,
   "metadata": {},
   "outputs": [
    {
     "data": {
      "application/vnd.plotly.v1+json": {
       "config": {
        "plotlyServerURL": "https://plot.ly"
       },
       "data": [
        {
         "hoverinfo": "text",
         "hovertext": [
          "2010-01<br>Count: 14",
          "2010-02<br>Count: 21",
          "2010-03<br>Count: 13",
          "2010-04<br>Count: 17",
          "2010-05<br>Count: 10",
          "2010-06<br>Count: 14",
          "2010-07<br>Count: 18",
          "2010-08<br>Count: 27",
          "2010-09<br>Count: 17",
          "2010-10<br>Count: 23",
          "2010-11<br>Count: 8",
          "2010-12<br>Count: 14",
          "2011-01<br>Count: 26",
          "2011-02<br>Count: 29",
          "2011-03<br>Count: 28",
          "2011-04<br>Count: 20",
          "2011-05<br>Count: 61",
          "2011-06<br>Count: 79",
          "2011-07<br>Count: 5",
          "2011-08<br>Count: 22",
          "2011-09<br>Count: 28",
          "2011-10<br>Count: 42",
          "2011-11<br>Count: 47",
          "2011-12<br>Count: 17",
          "2012-01<br>Count: 179",
          "2012-02<br>Count: 98",
          "2012-03<br>Count: 40",
          "2012-04<br>Count: 134",
          "2012-05<br>Count: 129",
          "2012-06<br>Count: 147",
          "2012-07<br>Count: 72",
          "2012-08<br>Count: 59",
          "2012-09<br>Count: 70",
          "2012-10<br>Count: 48",
          "2012-11<br>Count: 107",
          "2012-12<br>Count: 106",
          "2013-01<br>Count: 43",
          "2013-02<br>Count: 49",
          "2013-03<br>Count: 77",
          "2013-04<br>Count: 85",
          "2013-05<br>Count: 73",
          "2013-06<br>Count: 135",
          "2013-07<br>Count: 148",
          "2013-08<br>Count: 254",
          "2013-09<br>Count: 197",
          "2013-10<br>Count: 210",
          "2013-11<br>Count: 238",
          "2013-12<br>Count: 276",
          "2014-01<br>Count: 221",
          "2014-02<br>Count: 171",
          "2014-03<br>Count: 261",
          "2014-04<br>Count: 350",
          "2014-05<br>Count: 406",
          "2014-06<br>Count: 294",
          "2014-07<br>Count: 362",
          "2014-08<br>Count: 246",
          "2014-09<br>Count: 293",
          "2014-10<br>Count: 328",
          "2014-11<br>Count: 199",
          "2014-12<br>Count: 333",
          "2015-01<br>Count: 376",
          "2015-02<br>Count: 327",
          "2015-03<br>Count: 423",
          "2015-04<br>Count: 298",
          "2015-05<br>Count: 271",
          "2015-06<br>Count: 325",
          "2015-07<br>Count: 363",
          "2015-08<br>Count: 328",
          "2015-09<br>Count: 418",
          "2015-10<br>Count: 353",
          "2015-11<br>Count: 359",
          "2015-12<br>Count: 227",
          "2016-01<br>Count: 171",
          "2016-02<br>Count: 345",
          "2016-03<br>Count: 380",
          "2016-04<br>Count: 278",
          "2016-05<br>Count: 245",
          "2016-06<br>Count: 278",
          "2016-07<br>Count: 330",
          "2016-08<br>Count: 323",
          "2016-09<br>Count: 186",
          "2016-10<br>Count: 330",
          "2016-11<br>Count: 306",
          "2016-12<br>Count: 264",
          "2017-01<br>Count: 349",
          "2017-02<br>Count: 266",
          "2017-03<br>Count: 219",
          "2017-04<br>Count: 243",
          "2017-05<br>Count: 334",
          "2017-06<br>Count: 393",
          "2017-07<br>Count: 374",
          "2017-08<br>Count: 365",
          "2017-09<br>Count: 300",
          "2017-10<br>Count: 295",
          "2017-11<br>Count: 249",
          "2017-12<br>Count: 349",
          "2018-01<br>Count: 322",
          "2018-02<br>Count: 297",
          "2018-03<br>Count: 287",
          "2018-04<br>Count: 282",
          "2018-05<br>Count: 289",
          "2018-06<br>Count: 244",
          "2018-07<br>Count: 344",
          "2018-08<br>Count: 389",
          "2018-09<br>Count: 289",
          "2018-10<br>Count: 361",
          "2018-11<br>Count: 260",
          "2018-12<br>Count: 249",
          "2019-01<br>Count: 301",
          "2019-02<br>Count: 234",
          "2019-03<br>Count: 219",
          "2019-04<br>Count: 297",
          "2019-05<br>Count: 243",
          "2019-06<br>Count: 190",
          "2019-07<br>Count: 233",
          "2019-08<br>Count: 272",
          "2019-09<br>Count: 255",
          "2019-10<br>Count: 210",
          "2019-11<br>Count: 219",
          "2019-12<br>Count: 237",
          "2020-01<br>Count: 241",
          "2020-02<br>Count: 322",
          "2020-03<br>Count: 343",
          "2020-04<br>Count: 91",
          "2020-05<br>Count: 157",
          "2020-06<br>Count: 279",
          "2020-07<br>Count: 253",
          "2020-08<br>Count: 177",
          "2020-09<br>Count: 155",
          "2020-10<br>Count: 379",
          "2020-11<br>Count: 297",
          "2020-12<br>Count: 353",
          "2021-01<br>Count: 227",
          "2021-02<br>Count: 215",
          "2021-03<br>Count: 476",
          "2021-04<br>Count: 225",
          "2021-05<br>Count: 429",
          "2021-06<br>Count: 498",
          "2021-07<br>Count: 357",
          "2021-08<br>Count: 528",
          "2021-09<br>Count: 435",
          "2021-10<br>Count: 408",
          "2021-11<br>Count: 383",
          "2021-12<br>Count: 197",
          "2022-01<br>Count: 463",
          "2022-02<br>Count: 305",
          "2022-03<br>Count: 408",
          "2022-04<br>Count: 324",
          "2022-05<br>Count: 302",
          "2022-06<br>Count: 450",
          "2022-07<br>Count: 489",
          "2022-08<br>Count: 470",
          "2022-09<br>Count: 406",
          "2022-10<br>Count: 316",
          "2022-11<br>Count: 263",
          "2022-12<br>Count: 249",
          "2023-01<br>Count: 280",
          "2023-02<br>Count: 228",
          "2023-03<br>Count: 234",
          "2023-04<br>Count: 213",
          "2023-05<br>Count: 305",
          "2023-06<br>Count: 284",
          "2023-07<br>Count: 298",
          "2023-08<br>Count: 281",
          "2023-09<br>Count: 298",
          "2023-10<br>Count: 273",
          "2023-11<br>Count: 220",
          "2023-12<br>Count: 102"
         ],
         "marker": {
          "color": "coral"
         },
         "name": "Sales Per Month",
         "type": "bar",
         "x": [
          "2010-01",
          "2010-02",
          "2010-03",
          "2010-04",
          "2010-05",
          "2010-06",
          "2010-07",
          "2010-08",
          "2010-09",
          "2010-10",
          "2010-11",
          "2010-12",
          "2011-01",
          "2011-02",
          "2011-03",
          "2011-04",
          "2011-05",
          "2011-06",
          "2011-07",
          "2011-08",
          "2011-09",
          "2011-10",
          "2011-11",
          "2011-12",
          "2012-01",
          "2012-02",
          "2012-03",
          "2012-04",
          "2012-05",
          "2012-06",
          "2012-07",
          "2012-08",
          "2012-09",
          "2012-10",
          "2012-11",
          "2012-12",
          "2013-01",
          "2013-02",
          "2013-03",
          "2013-04",
          "2013-05",
          "2013-06",
          "2013-07",
          "2013-08",
          "2013-09",
          "2013-10",
          "2013-11",
          "2013-12",
          "2014-01",
          "2014-02",
          "2014-03",
          "2014-04",
          "2014-05",
          "2014-06",
          "2014-07",
          "2014-08",
          "2014-09",
          "2014-10",
          "2014-11",
          "2014-12",
          "2015-01",
          "2015-02",
          "2015-03",
          "2015-04",
          "2015-05",
          "2015-06",
          "2015-07",
          "2015-08",
          "2015-09",
          "2015-10",
          "2015-11",
          "2015-12",
          "2016-01",
          "2016-02",
          "2016-03",
          "2016-04",
          "2016-05",
          "2016-06",
          "2016-07",
          "2016-08",
          "2016-09",
          "2016-10",
          "2016-11",
          "2016-12",
          "2017-01",
          "2017-02",
          "2017-03",
          "2017-04",
          "2017-05",
          "2017-06",
          "2017-07",
          "2017-08",
          "2017-09",
          "2017-10",
          "2017-11",
          "2017-12",
          "2018-01",
          "2018-02",
          "2018-03",
          "2018-04",
          "2018-05",
          "2018-06",
          "2018-07",
          "2018-08",
          "2018-09",
          "2018-10",
          "2018-11",
          "2018-12",
          "2019-01",
          "2019-02",
          "2019-03",
          "2019-04",
          "2019-05",
          "2019-06",
          "2019-07",
          "2019-08",
          "2019-09",
          "2019-10",
          "2019-11",
          "2019-12",
          "2020-01",
          "2020-02",
          "2020-03",
          "2020-04",
          "2020-05",
          "2020-06",
          "2020-07",
          "2020-08",
          "2020-09",
          "2020-10",
          "2020-11",
          "2020-12",
          "2021-01",
          "2021-02",
          "2021-03",
          "2021-04",
          "2021-05",
          "2021-06",
          "2021-07",
          "2021-08",
          "2021-09",
          "2021-10",
          "2021-11",
          "2021-12",
          "2022-01",
          "2022-02",
          "2022-03",
          "2022-04",
          "2022-05",
          "2022-06",
          "2022-07",
          "2022-08",
          "2022-09",
          "2022-10",
          "2022-11",
          "2022-12",
          "2023-01",
          "2023-02",
          "2023-03",
          "2023-04",
          "2023-05",
          "2023-06",
          "2023-07",
          "2023-08",
          "2023-09",
          "2023-10",
          "2023-11",
          "2023-12"
         ],
         "y": [
          14,
          21,
          13,
          17,
          10,
          14,
          18,
          27,
          17,
          23,
          8,
          14,
          26,
          29,
          28,
          20,
          61,
          79,
          5,
          22,
          28,
          42,
          47,
          17,
          179,
          98,
          40,
          134,
          129,
          147,
          72,
          59,
          70,
          48,
          107,
          106,
          43,
          49,
          77,
          85,
          73,
          135,
          148,
          254,
          197,
          210,
          238,
          276,
          221,
          171,
          261,
          350,
          406,
          294,
          362,
          246,
          293,
          328,
          199,
          333,
          376,
          327,
          423,
          298,
          271,
          325,
          363,
          328,
          418,
          353,
          359,
          227,
          171,
          345,
          380,
          278,
          245,
          278,
          330,
          323,
          186,
          330,
          306,
          264,
          349,
          266,
          219,
          243,
          334,
          393,
          374,
          365,
          300,
          295,
          249,
          349,
          322,
          297,
          287,
          282,
          289,
          244,
          344,
          389,
          289,
          361,
          260,
          249,
          301,
          234,
          219,
          297,
          243,
          190,
          233,
          272,
          255,
          210,
          219,
          237,
          241,
          322,
          343,
          91,
          157,
          279,
          253,
          177,
          155,
          379,
          297,
          353,
          227,
          215,
          476,
          225,
          429,
          498,
          357,
          528,
          435,
          408,
          383,
          197,
          463,
          305,
          408,
          324,
          302,
          450,
          489,
          470,
          406,
          316,
          263,
          249,
          280,
          228,
          234,
          213,
          305,
          284,
          298,
          281,
          298,
          273,
          220,
          102
         ]
        }
       ],
       "layout": {
        "margin": {
         "b": 40,
         "l": 40,
         "r": 40,
         "t": 40
        },
        "plot_bgcolor": "white",
        "shapes": [
         {
          "line": {
           "color": "cornflowerblue",
           "width": 1
          },
          "type": "line",
          "x0": "2010-01",
          "x1": "2010-01",
          "y0": 0,
          "y1": 528
         },
         {
          "line": {
           "color": "cornflowerblue",
           "width": 1
          },
          "type": "line",
          "x0": "2011-01",
          "x1": "2011-01",
          "y0": 0,
          "y1": 528
         },
         {
          "line": {
           "color": "cornflowerblue",
           "width": 1
          },
          "type": "line",
          "x0": "2012-01",
          "x1": "2012-01",
          "y0": 0,
          "y1": 528
         },
         {
          "line": {
           "color": "cornflowerblue",
           "width": 1
          },
          "type": "line",
          "x0": "2013-01",
          "x1": "2013-01",
          "y0": 0,
          "y1": 528
         },
         {
          "line": {
           "color": "cornflowerblue",
           "width": 1
          },
          "type": "line",
          "x0": "2014-01",
          "x1": "2014-01",
          "y0": 0,
          "y1": 528
         },
         {
          "line": {
           "color": "cornflowerblue",
           "width": 1
          },
          "type": "line",
          "x0": "2015-01",
          "x1": "2015-01",
          "y0": 0,
          "y1": 528
         },
         {
          "line": {
           "color": "cornflowerblue",
           "width": 1
          },
          "type": "line",
          "x0": "2016-01",
          "x1": "2016-01",
          "y0": 0,
          "y1": 528
         },
         {
          "line": {
           "color": "cornflowerblue",
           "width": 1
          },
          "type": "line",
          "x0": "2017-01",
          "x1": "2017-01",
          "y0": 0,
          "y1": 528
         },
         {
          "line": {
           "color": "cornflowerblue",
           "width": 1
          },
          "type": "line",
          "x0": "2018-01",
          "x1": "2018-01",
          "y0": 0,
          "y1": 528
         },
         {
          "line": {
           "color": "cornflowerblue",
           "width": 1
          },
          "type": "line",
          "x0": "2019-01",
          "x1": "2019-01",
          "y0": 0,
          "y1": 528
         },
         {
          "line": {
           "color": "cornflowerblue",
           "width": 1
          },
          "type": "line",
          "x0": "2020-01",
          "x1": "2020-01",
          "y0": 0,
          "y1": 528
         },
         {
          "line": {
           "color": "cornflowerblue",
           "width": 1
          },
          "type": "line",
          "x0": "2021-01",
          "x1": "2021-01",
          "y0": 0,
          "y1": 528
         },
         {
          "line": {
           "color": "cornflowerblue",
           "width": 1
          },
          "type": "line",
          "x0": "2022-01",
          "x1": "2022-01",
          "y0": 0,
          "y1": 528
         },
         {
          "line": {
           "color": "cornflowerblue",
           "width": 1
          },
          "type": "line",
          "x0": "2023-01",
          "x1": "2023-01",
          "y0": 0,
          "y1": 528
         }
        ],
        "template": {
         "data": {
          "bar": [
           {
            "error_x": {
             "color": "#2a3f5f"
            },
            "error_y": {
             "color": "#2a3f5f"
            },
            "marker": {
             "line": {
              "color": "#E5ECF6",
              "width": 0.5
             },
             "pattern": {
              "fillmode": "overlay",
              "size": 10,
              "solidity": 0.2
             }
            },
            "type": "bar"
           }
          ],
          "barpolar": [
           {
            "marker": {
             "line": {
              "color": "#E5ECF6",
              "width": 0.5
             },
             "pattern": {
              "fillmode": "overlay",
              "size": 10,
              "solidity": 0.2
             }
            },
            "type": "barpolar"
           }
          ],
          "carpet": [
           {
            "aaxis": {
             "endlinecolor": "#2a3f5f",
             "gridcolor": "white",
             "linecolor": "white",
             "minorgridcolor": "white",
             "startlinecolor": "#2a3f5f"
            },
            "baxis": {
             "endlinecolor": "#2a3f5f",
             "gridcolor": "white",
             "linecolor": "white",
             "minorgridcolor": "white",
             "startlinecolor": "#2a3f5f"
            },
            "type": "carpet"
           }
          ],
          "choropleth": [
           {
            "colorbar": {
             "outlinewidth": 0,
             "ticks": ""
            },
            "type": "choropleth"
           }
          ],
          "contour": [
           {
            "colorbar": {
             "outlinewidth": 0,
             "ticks": ""
            },
            "colorscale": [
             [
              0,
              "#0d0887"
             ],
             [
              0.1111111111111111,
              "#46039f"
             ],
             [
              0.2222222222222222,
              "#7201a8"
             ],
             [
              0.3333333333333333,
              "#9c179e"
             ],
             [
              0.4444444444444444,
              "#bd3786"
             ],
             [
              0.5555555555555556,
              "#d8576b"
             ],
             [
              0.6666666666666666,
              "#ed7953"
             ],
             [
              0.7777777777777778,
              "#fb9f3a"
             ],
             [
              0.8888888888888888,
              "#fdca26"
             ],
             [
              1,
              "#f0f921"
             ]
            ],
            "type": "contour"
           }
          ],
          "contourcarpet": [
           {
            "colorbar": {
             "outlinewidth": 0,
             "ticks": ""
            },
            "type": "contourcarpet"
           }
          ],
          "heatmap": [
           {
            "colorbar": {
             "outlinewidth": 0,
             "ticks": ""
            },
            "colorscale": [
             [
              0,
              "#0d0887"
             ],
             [
              0.1111111111111111,
              "#46039f"
             ],
             [
              0.2222222222222222,
              "#7201a8"
             ],
             [
              0.3333333333333333,
              "#9c179e"
             ],
             [
              0.4444444444444444,
              "#bd3786"
             ],
             [
              0.5555555555555556,
              "#d8576b"
             ],
             [
              0.6666666666666666,
              "#ed7953"
             ],
             [
              0.7777777777777778,
              "#fb9f3a"
             ],
             [
              0.8888888888888888,
              "#fdca26"
             ],
             [
              1,
              "#f0f921"
             ]
            ],
            "type": "heatmap"
           }
          ],
          "heatmapgl": [
           {
            "colorbar": {
             "outlinewidth": 0,
             "ticks": ""
            },
            "colorscale": [
             [
              0,
              "#0d0887"
             ],
             [
              0.1111111111111111,
              "#46039f"
             ],
             [
              0.2222222222222222,
              "#7201a8"
             ],
             [
              0.3333333333333333,
              "#9c179e"
             ],
             [
              0.4444444444444444,
              "#bd3786"
             ],
             [
              0.5555555555555556,
              "#d8576b"
             ],
             [
              0.6666666666666666,
              "#ed7953"
             ],
             [
              0.7777777777777778,
              "#fb9f3a"
             ],
             [
              0.8888888888888888,
              "#fdca26"
             ],
             [
              1,
              "#f0f921"
             ]
            ],
            "type": "heatmapgl"
           }
          ],
          "histogram": [
           {
            "marker": {
             "pattern": {
              "fillmode": "overlay",
              "size": 10,
              "solidity": 0.2
             }
            },
            "type": "histogram"
           }
          ],
          "histogram2d": [
           {
            "colorbar": {
             "outlinewidth": 0,
             "ticks": ""
            },
            "colorscale": [
             [
              0,
              "#0d0887"
             ],
             [
              0.1111111111111111,
              "#46039f"
             ],
             [
              0.2222222222222222,
              "#7201a8"
             ],
             [
              0.3333333333333333,
              "#9c179e"
             ],
             [
              0.4444444444444444,
              "#bd3786"
             ],
             [
              0.5555555555555556,
              "#d8576b"
             ],
             [
              0.6666666666666666,
              "#ed7953"
             ],
             [
              0.7777777777777778,
              "#fb9f3a"
             ],
             [
              0.8888888888888888,
              "#fdca26"
             ],
             [
              1,
              "#f0f921"
             ]
            ],
            "type": "histogram2d"
           }
          ],
          "histogram2dcontour": [
           {
            "colorbar": {
             "outlinewidth": 0,
             "ticks": ""
            },
            "colorscale": [
             [
              0,
              "#0d0887"
             ],
             [
              0.1111111111111111,
              "#46039f"
             ],
             [
              0.2222222222222222,
              "#7201a8"
             ],
             [
              0.3333333333333333,
              "#9c179e"
             ],
             [
              0.4444444444444444,
              "#bd3786"
             ],
             [
              0.5555555555555556,
              "#d8576b"
             ],
             [
              0.6666666666666666,
              "#ed7953"
             ],
             [
              0.7777777777777778,
              "#fb9f3a"
             ],
             [
              0.8888888888888888,
              "#fdca26"
             ],
             [
              1,
              "#f0f921"
             ]
            ],
            "type": "histogram2dcontour"
           }
          ],
          "mesh3d": [
           {
            "colorbar": {
             "outlinewidth": 0,
             "ticks": ""
            },
            "type": "mesh3d"
           }
          ],
          "parcoords": [
           {
            "line": {
             "colorbar": {
              "outlinewidth": 0,
              "ticks": ""
             }
            },
            "type": "parcoords"
           }
          ],
          "pie": [
           {
            "automargin": true,
            "type": "pie"
           }
          ],
          "scatter": [
           {
            "fillpattern": {
             "fillmode": "overlay",
             "size": 10,
             "solidity": 0.2
            },
            "type": "scatter"
           }
          ],
          "scatter3d": [
           {
            "line": {
             "colorbar": {
              "outlinewidth": 0,
              "ticks": ""
             }
            },
            "marker": {
             "colorbar": {
              "outlinewidth": 0,
              "ticks": ""
             }
            },
            "type": "scatter3d"
           }
          ],
          "scattercarpet": [
           {
            "marker": {
             "colorbar": {
              "outlinewidth": 0,
              "ticks": ""
             }
            },
            "type": "scattercarpet"
           }
          ],
          "scattergeo": [
           {
            "marker": {
             "colorbar": {
              "outlinewidth": 0,
              "ticks": ""
             }
            },
            "type": "scattergeo"
           }
          ],
          "scattergl": [
           {
            "marker": {
             "colorbar": {
              "outlinewidth": 0,
              "ticks": ""
             }
            },
            "type": "scattergl"
           }
          ],
          "scattermapbox": [
           {
            "marker": {
             "colorbar": {
              "outlinewidth": 0,
              "ticks": ""
             }
            },
            "type": "scattermapbox"
           }
          ],
          "scatterpolar": [
           {
            "marker": {
             "colorbar": {
              "outlinewidth": 0,
              "ticks": ""
             }
            },
            "type": "scatterpolar"
           }
          ],
          "scatterpolargl": [
           {
            "marker": {
             "colorbar": {
              "outlinewidth": 0,
              "ticks": ""
             }
            },
            "type": "scatterpolargl"
           }
          ],
          "scatterternary": [
           {
            "marker": {
             "colorbar": {
              "outlinewidth": 0,
              "ticks": ""
             }
            },
            "type": "scatterternary"
           }
          ],
          "surface": [
           {
            "colorbar": {
             "outlinewidth": 0,
             "ticks": ""
            },
            "colorscale": [
             [
              0,
              "#0d0887"
             ],
             [
              0.1111111111111111,
              "#46039f"
             ],
             [
              0.2222222222222222,
              "#7201a8"
             ],
             [
              0.3333333333333333,
              "#9c179e"
             ],
             [
              0.4444444444444444,
              "#bd3786"
             ],
             [
              0.5555555555555556,
              "#d8576b"
             ],
             [
              0.6666666666666666,
              "#ed7953"
             ],
             [
              0.7777777777777778,
              "#fb9f3a"
             ],
             [
              0.8888888888888888,
              "#fdca26"
             ],
             [
              1,
              "#f0f921"
             ]
            ],
            "type": "surface"
           }
          ],
          "table": [
           {
            "cells": {
             "fill": {
              "color": "#EBF0F8"
             },
             "line": {
              "color": "white"
             }
            },
            "header": {
             "fill": {
              "color": "#C8D4E3"
             },
             "line": {
              "color": "white"
             }
            },
            "type": "table"
           }
          ]
         },
         "layout": {
          "annotationdefaults": {
           "arrowcolor": "#2a3f5f",
           "arrowhead": 0,
           "arrowwidth": 1
          },
          "autotypenumbers": "strict",
          "coloraxis": {
           "colorbar": {
            "outlinewidth": 0,
            "ticks": ""
           }
          },
          "colorscale": {
           "diverging": [
            [
             0,
             "#8e0152"
            ],
            [
             0.1,
             "#c51b7d"
            ],
            [
             0.2,
             "#de77ae"
            ],
            [
             0.3,
             "#f1b6da"
            ],
            [
             0.4,
             "#fde0ef"
            ],
            [
             0.5,
             "#f7f7f7"
            ],
            [
             0.6,
             "#e6f5d0"
            ],
            [
             0.7,
             "#b8e186"
            ],
            [
             0.8,
             "#7fbc41"
            ],
            [
             0.9,
             "#4d9221"
            ],
            [
             1,
             "#276419"
            ]
           ],
           "sequential": [
            [
             0,
             "#0d0887"
            ],
            [
             0.1111111111111111,
             "#46039f"
            ],
            [
             0.2222222222222222,
             "#7201a8"
            ],
            [
             0.3333333333333333,
             "#9c179e"
            ],
            [
             0.4444444444444444,
             "#bd3786"
            ],
            [
             0.5555555555555556,
             "#d8576b"
            ],
            [
             0.6666666666666666,
             "#ed7953"
            ],
            [
             0.7777777777777778,
             "#fb9f3a"
            ],
            [
             0.8888888888888888,
             "#fdca26"
            ],
            [
             1,
             "#f0f921"
            ]
           ],
           "sequentialminus": [
            [
             0,
             "#0d0887"
            ],
            [
             0.1111111111111111,
             "#46039f"
            ],
            [
             0.2222222222222222,
             "#7201a8"
            ],
            [
             0.3333333333333333,
             "#9c179e"
            ],
            [
             0.4444444444444444,
             "#bd3786"
            ],
            [
             0.5555555555555556,
             "#d8576b"
            ],
            [
             0.6666666666666666,
             "#ed7953"
            ],
            [
             0.7777777777777778,
             "#fb9f3a"
            ],
            [
             0.8888888888888888,
             "#fdca26"
            ],
            [
             1,
             "#f0f921"
            ]
           ]
          },
          "colorway": [
           "#636efa",
           "#EF553B",
           "#00cc96",
           "#ab63fa",
           "#FFA15A",
           "#19d3f3",
           "#FF6692",
           "#B6E880",
           "#FF97FF",
           "#FECB52"
          ],
          "font": {
           "color": "#2a3f5f"
          },
          "geo": {
           "bgcolor": "white",
           "lakecolor": "white",
           "landcolor": "#E5ECF6",
           "showlakes": true,
           "showland": true,
           "subunitcolor": "white"
          },
          "hoverlabel": {
           "align": "left"
          },
          "hovermode": "closest",
          "mapbox": {
           "style": "light"
          },
          "paper_bgcolor": "white",
          "plot_bgcolor": "#E5ECF6",
          "polar": {
           "angularaxis": {
            "gridcolor": "white",
            "linecolor": "white",
            "ticks": ""
           },
           "bgcolor": "#E5ECF6",
           "radialaxis": {
            "gridcolor": "white",
            "linecolor": "white",
            "ticks": ""
           }
          },
          "scene": {
           "xaxis": {
            "backgroundcolor": "#E5ECF6",
            "gridcolor": "white",
            "gridwidth": 2,
            "linecolor": "white",
            "showbackground": true,
            "ticks": "",
            "zerolinecolor": "white"
           },
           "yaxis": {
            "backgroundcolor": "#E5ECF6",
            "gridcolor": "white",
            "gridwidth": 2,
            "linecolor": "white",
            "showbackground": true,
            "ticks": "",
            "zerolinecolor": "white"
           },
           "zaxis": {
            "backgroundcolor": "#E5ECF6",
            "gridcolor": "white",
            "gridwidth": 2,
            "linecolor": "white",
            "showbackground": true,
            "ticks": "",
            "zerolinecolor": "white"
           }
          },
          "shapedefaults": {
           "line": {
            "color": "#2a3f5f"
           }
          },
          "ternary": {
           "aaxis": {
            "gridcolor": "white",
            "linecolor": "white",
            "ticks": ""
           },
           "baxis": {
            "gridcolor": "white",
            "linecolor": "white",
            "ticks": ""
           },
           "bgcolor": "#E5ECF6",
           "caxis": {
            "gridcolor": "white",
            "linecolor": "white",
            "ticks": ""
           }
          },
          "title": {
           "x": 0.05
          },
          "xaxis": {
           "automargin": true,
           "gridcolor": "white",
           "linecolor": "white",
           "ticks": "",
           "title": {
            "standoff": 15
           },
           "zerolinecolor": "white",
           "zerolinewidth": 2
          },
          "yaxis": {
           "automargin": true,
           "gridcolor": "white",
           "linecolor": "white",
           "ticks": "",
           "title": {
            "standoff": 15
           },
           "zerolinecolor": "white",
           "zerolinewidth": 2
          }
         }
        },
        "title": {
         "text": "Sales Per Month"
        },
        "xaxis": {
         "tickangle": 45,
         "ticktext": [
          "2010-01",
          "",
          "",
          "",
          "",
          "2010-06",
          "",
          "",
          "",
          "",
          "",
          "",
          "2011-01",
          "",
          "",
          "",
          "",
          "2011-06",
          "",
          "",
          "",
          "",
          "",
          "",
          "2012-01",
          "",
          "",
          "",
          "",
          "2012-06",
          "",
          "",
          "",
          "",
          "",
          "",
          "2013-01",
          "",
          "",
          "",
          "",
          "2013-06",
          "",
          "",
          "",
          "",
          "",
          "",
          "2014-01",
          "",
          "",
          "",
          "",
          "2014-06",
          "",
          "",
          "",
          "",
          "",
          "",
          "2015-01",
          "",
          "",
          "",
          "",
          "2015-06",
          "",
          "",
          "",
          "",
          "",
          "",
          "2016-01",
          "",
          "",
          "",
          "",
          "2016-06",
          "",
          "",
          "",
          "",
          "",
          "",
          "2017-01",
          "",
          "",
          "",
          "",
          "2017-06",
          "",
          "",
          "",
          "",
          "",
          "",
          "2018-01",
          "",
          "",
          "",
          "",
          "2018-06",
          "",
          "",
          "",
          "",
          "",
          "",
          "2019-01",
          "",
          "",
          "",
          "",
          "2019-06",
          "",
          "",
          "",
          "",
          "",
          "",
          "2020-01",
          "",
          "",
          "",
          "",
          "2020-06",
          "",
          "",
          "",
          "",
          "",
          "",
          "2021-01",
          "",
          "",
          "",
          "",
          "2021-06",
          "",
          "",
          "",
          "",
          "",
          "",
          "2022-01",
          "",
          "",
          "",
          "",
          "2022-06",
          "",
          "",
          "",
          "",
          "",
          "",
          "2023-01",
          "",
          "",
          "",
          "",
          "2023-06",
          "",
          "",
          "",
          "",
          "",
          ""
         ],
         "tickvals": [
          "2010-01",
          "2010-02",
          "2010-03",
          "2010-04",
          "2010-05",
          "2010-06",
          "2010-07",
          "2010-08",
          "2010-09",
          "2010-10",
          "2010-11",
          "2010-12",
          "2011-01",
          "2011-02",
          "2011-03",
          "2011-04",
          "2011-05",
          "2011-06",
          "2011-07",
          "2011-08",
          "2011-09",
          "2011-10",
          "2011-11",
          "2011-12",
          "2012-01",
          "2012-02",
          "2012-03",
          "2012-04",
          "2012-05",
          "2012-06",
          "2012-07",
          "2012-08",
          "2012-09",
          "2012-10",
          "2012-11",
          "2012-12",
          "2013-01",
          "2013-02",
          "2013-03",
          "2013-04",
          "2013-05",
          "2013-06",
          "2013-07",
          "2013-08",
          "2013-09",
          "2013-10",
          "2013-11",
          "2013-12",
          "2014-01",
          "2014-02",
          "2014-03",
          "2014-04",
          "2014-05",
          "2014-06",
          "2014-07",
          "2014-08",
          "2014-09",
          "2014-10",
          "2014-11",
          "2014-12",
          "2015-01",
          "2015-02",
          "2015-03",
          "2015-04",
          "2015-05",
          "2015-06",
          "2015-07",
          "2015-08",
          "2015-09",
          "2015-10",
          "2015-11",
          "2015-12",
          "2016-01",
          "2016-02",
          "2016-03",
          "2016-04",
          "2016-05",
          "2016-06",
          "2016-07",
          "2016-08",
          "2016-09",
          "2016-10",
          "2016-11",
          "2016-12",
          "2017-01",
          "2017-02",
          "2017-03",
          "2017-04",
          "2017-05",
          "2017-06",
          "2017-07",
          "2017-08",
          "2017-09",
          "2017-10",
          "2017-11",
          "2017-12",
          "2018-01",
          "2018-02",
          "2018-03",
          "2018-04",
          "2018-05",
          "2018-06",
          "2018-07",
          "2018-08",
          "2018-09",
          "2018-10",
          "2018-11",
          "2018-12",
          "2019-01",
          "2019-02",
          "2019-03",
          "2019-04",
          "2019-05",
          "2019-06",
          "2019-07",
          "2019-08",
          "2019-09",
          "2019-10",
          "2019-11",
          "2019-12",
          "2020-01",
          "2020-02",
          "2020-03",
          "2020-04",
          "2020-05",
          "2020-06",
          "2020-07",
          "2020-08",
          "2020-09",
          "2020-10",
          "2020-11",
          "2020-12",
          "2021-01",
          "2021-02",
          "2021-03",
          "2021-04",
          "2021-05",
          "2021-06",
          "2021-07",
          "2021-08",
          "2021-09",
          "2021-10",
          "2021-11",
          "2021-12",
          "2022-01",
          "2022-02",
          "2022-03",
          "2022-04",
          "2022-05",
          "2022-06",
          "2022-07",
          "2022-08",
          "2022-09",
          "2022-10",
          "2022-11",
          "2022-12",
          "2023-01",
          "2023-02",
          "2023-03",
          "2023-04",
          "2023-05",
          "2023-06",
          "2023-07",
          "2023-08",
          "2023-09",
          "2023-10",
          "2023-11",
          "2023-12"
         ],
         "title": {
          "text": "Year-Month"
         }
        },
        "yaxis": {
         "title": {
          "text": "Count"
         }
        }
       }
      }
     },
     "metadata": {},
     "output_type": "display_data"
    }
   ],
   "source": [
    "# group data and prepare for plotting\n",
    "sales_per_month = df.groupby(['year', 'month']).size()\n",
    "sales_per_month = sales_per_month.reset_index(name='count')\n",
    "sales_per_month.columns = ['year', 'month', 'count']\n",
    "sales_per_month['year_month'] = sales_per_month['year'].astype(str) + '-' + sales_per_month['month'].astype(str).str.zfill(2)\n",
    "\n",
    "# create custom tick labels\n",
    "tick_labels = [\n",
    "    label if month in [1, 6] else \"\"  # Show label only for January and June\n",
    "    for label, month in zip(sales_per_month['year_month'], sales_per_month['month'])\n",
    "]\n",
    "\n",
    "# create the bar chart\n",
    "fig = go.Figure()\n",
    "\n",
    "fig.add_trace(go.Bar(\n",
    "    x=sales_per_month['year_month'],\n",
    "    y=sales_per_month['count'],\n",
    "    marker_color='coral',\n",
    "    name='Sales Per Month',\n",
    "    hovertext=[f\"{ym}<br>Count: {count}\" for ym, count in zip(sales_per_month['year_month'], sales_per_month['count'])],  # add hover info\n",
    "    hoverinfo=\"text\"  # display hovertext\n",
    "))\n",
    "\n",
    "# add vertical lines for the start of each year\n",
    "for idx in sales_per_month[sales_per_month['month'] == 1].index:\n",
    "    fig.add_shape(\n",
    "        type=\"line\",\n",
    "        x0=sales_per_month.loc[idx, 'year_month'],\n",
    "        x1=sales_per_month.loc[idx, 'year_month'],\n",
    "        y0=0,\n",
    "        y1=sales_per_month['count'].max(),\n",
    "        line=dict(color=\"cornflowerblue\", width=1)\n",
    "    )\n",
    "\n",
    "# customize the layout\n",
    "fig.update_layout(\n",
    "    title='Sales Per Month',\n",
    "    xaxis=dict(\n",
    "        title='Year-Month',\n",
    "        tickvals=sales_per_month['year_month'],  # keep all positions for x-ticks\n",
    "        ticktext=tick_labels,  # apply filtered labels\n",
    "        tickangle=45\n",
    "    ),\n",
    "    yaxis=dict(title='Count'),\n",
    "    margin=dict(l=40, r=40, t=40, b=40),\n",
    "    plot_bgcolor='white'\n",
    ")\n",
    "\n",
    "fig.show()"
   ]
  },
  {
   "cell_type": "markdown",
   "metadata": {},
   "source": [
    "It seems like overall, more sales are done in the warmer months than the colder ones, so there would be a seasonal signal in the data."
   ]
  },
  {
   "cell_type": "code",
   "execution_count": 140,
   "metadata": {},
   "outputs": [
    {
     "name": "stdout",
     "output_type": "stream",
     "text": [
      "Index(['sale_ask', 'units', 'floors', 'sf', 'annual$', 'year', 'month',\n",
      "       'day_of_week', 'quarter', 'ppsf'],\n",
      "      dtype='object')\n"
     ]
    },
    {
     "data": {
      "image/png": "[encoded data removed]",
      "text/plain": [
       "<Figure size 800x2200 with 10 Axes>"
      ]
     },
     "metadata": {},
     "output_type": "display_data"
    }
   ],
   "source": [
    "numeric_cols = df.select_dtypes(include=['number']).columns\n",
    "num_cols = len(df.columns)\n",
    "print(numeric_cols)\n",
    "\n",
    "fig, ax = plt.subplots(num_cols - 1, 1, figsize=(8, 2 * num_cols))\n",
    "for i, col in enumerate(numeric_cols):\n",
    "    sns.boxplot(x=df[col], ax=ax[i])\n",
    "    ax[i].set_title(f'Boxplot of {col}')\n",
    "\n",
    "plt.tight_layout()\n",
    "plt.show()"
   ]
  },
  {
   "cell_type": "markdown",
   "metadata": {},
   "source": [
    "I will work with the LSTM model in PyTorch. LSTM is a deep learning method for time series analysis."
   ]
  },
  {
   "cell_type": "markdown",
   "metadata": {},
   "source": [
    "### LSTM with PyTorch"
   ]
  },
  {
   "cell_type": "markdown",
   "metadata": {},
   "source": [
    "#### Prepare data\n",
    "\n",
    "Convert dataset into a sequence suitable for LSTM."
   ]
  },
  {
   "cell_type": "code",
   "execution_count": 155,
   "metadata": {},
   "outputs": [],
   "source": [
    "df = df.sort_values('date')\n",
    "\n",
    "# define features and target\n",
    "target_column = 'sale_ask'\n",
    "features = [col for col in df.columns if col not in [\n",
    "    'sale_ask',\n",
    "    'date', \n",
    "    #  'year', \n",
    "    #  'month', \n",
    "    #  'day_of_week', \n",
    "    #  'quarter',\n",
    "     'annual$']]"
   ]
  },
  {
   "cell_type": "code",
   "execution_count": 156,
   "metadata": {},
   "outputs": [
    {
     "data": {
      "text/plain": [
       "['units', 'floors', 'sf', 'year', 'month', 'day_of_week', 'quarter', 'ppsf']"
      ]
     },
     "execution_count": 156,
     "metadata": {},
     "output_type": "execute_result"
    }
   ],
   "source": [
    "features"
   ]
  },
  {
   "cell_type": "markdown",
   "metadata": {},
   "source": [
    "Given that this is a time-series task, we won't be using the normal `scikit-learn` `train_test_split`. We will instead need to split the data by time to ensure that future data points are not used in training the model."
   ]
  },
  {
   "cell_type": "code",
   "execution_count": 157,
   "metadata": {},
   "outputs": [
    {
     "name": "stdout",
     "output_type": "stream",
     "text": [
      "train shape: (27780, 11)\n",
      "val shape:   (7937, 11)\n",
      "test shape : (3970, 11)\n"
     ]
    }
   ],
   "source": [
    "# define split sizes (e.g., 70% train, 20% validation, 10% test)\n",
    "train_size = int(len(df) * 0.7)\n",
    "val_size = int(len(df) * 0.2)\n",
    "\n",
    "# Create splits\n",
    "train_df = df.iloc[:train_size]\n",
    "val_df = df.iloc[train_size:train_size + val_size]\n",
    "test_df = df.iloc[train_size + val_size:]\n",
    "\n",
    "print(\"train shape:\", train_df.shape)\n",
    "print(\"val shape:  \", val_df.shape)\n",
    "print(\"test shape :\", test_df.shape)"
   ]
  },
  {
   "cell_type": "markdown",
   "metadata": {},
   "source": [
    "##### Normalize the data"
   ]
  },
  {
   "cell_type": "code",
   "execution_count": 158,
   "metadata": {},
   "outputs": [],
   "source": [
    "# normalize features and target\n",
    "feature_scaler = MinMaxScaler()\n",
    "target_scaler = MinMaxScaler()\n",
    "\n",
    "# fit and transform on training data\n",
    "train_features = feature_scaler.fit_transform(train_df[features])\n",
    "train_target = target_scaler.fit_transform(train_df[[target_column]])\n",
    "\n",
    "# transform validation and test sets\n",
    "val_features = feature_scaler.transform(val_df[features])\n",
    "val_target = target_scaler.transform(val_df[[target_column]])\n",
    "\n",
    "test_features = feature_scaler.transform(test_df[features])\n",
    "test_target = target_scaler.transform(test_df[[target_column]])"
   ]
  },
  {
   "cell_type": "markdown",
   "metadata": {},
   "source": [
    "##### Create sequences"
   ]
  },
  {
   "cell_type": "markdown",
   "metadata": {},
   "source": [
    "LSTMs require sequences, or sliding windows of time intervals for the features and correspoding targets."
   ]
  },
  {
   "cell_type": "code",
   "execution_count": 159,
   "metadata": {},
   "outputs": [],
   "source": [
    "def create_sequences(features, target, seq_len):\n",
    "    X, y = [], []\n",
    "    for i in range(len(features) - seq_len):\n",
    "        X.append(features[i:i+seq_len])\n",
    "        y.append(target[i+seq_len])\n",
    "    return np.array(X), np.array(y)\n",
    "\n",
    "# define sequence length\n",
    "seq_len = 365  # use SEQ_LEN days of data to predict the next day\n",
    "\n",
    "# create sequences\n",
    "X_train, y_train = create_sequences(train_features, train_target, seq_len)\n",
    "X_val, y_val = create_sequences(val_features, val_target, seq_len)\n",
    "X_test, y_test = create_sequences(test_features, test_target, seq_len)"
   ]
  },
  {
   "cell_type": "markdown",
   "metadata": {},
   "source": [
    "##### Convert to PyTorch tensors"
   ]
  },
  {
   "cell_type": "markdown",
   "metadata": {},
   "source": [
    "Convert the datasets to PyTorch tensors:"
   ]
  },
  {
   "cell_type": "code",
   "execution_count": 160,
   "metadata": {},
   "outputs": [],
   "source": [
    "X_train_tensor = torch.tensor(X_train, dtype=torch.float32)\n",
    "y_train_tensor = torch.tensor(y_train, dtype=torch.float32)\n",
    "\n",
    "X_val_tensor = torch.tensor(X_val, dtype=torch.float32)\n",
    "y_val_tensor = torch.tensor(y_val, dtype=torch.float32)\n",
    "\n",
    "X_test_tensor = torch.tensor(X_test, dtype=torch.float32)\n",
    "y_test_tensor = torch.tensor(y_test, dtype=torch.float32)"
   ]
  },
  {
   "cell_type": "code",
   "execution_count": 161,
   "metadata": {},
   "outputs": [
    {
     "name": "stdout",
     "output_type": "stream",
     "text": [
      "\n",
      "X_train_tensor: torch.Size([27415, 365, 8])\n",
      "y_train_tensor: torch.Size([27415, 1])\n",
      "X_val_tensor:   torch.Size([7572, 365, 8])\n",
      "y_val_tensor:   torch.Size([7572, 1])\n",
      "X_test_tensor:  torch.Size([3605, 365, 8])\n",
      "y_test_tensor:  torch.Size([3605, 1])\n",
      "      \n"
     ]
    }
   ],
   "source": [
    "print(f'''\n",
    "X_train_tensor: {X_train_tensor.shape}\n",
    "y_train_tensor: {y_train_tensor.shape}\n",
    "X_val_tensor:   {X_val_tensor.shape}\n",
    "y_val_tensor:   {y_val_tensor.shape}\n",
    "X_test_tensor:  {X_test_tensor.shape}\n",
    "y_test_tensor:  {y_test_tensor.shape}\n",
    "      ''')"
   ]
  },
  {
   "cell_type": "markdown",
   "metadata": {},
   "source": [
    "### PyTorch processing"
   ]
  },
  {
   "cell_type": "markdown",
   "metadata": {},
   "source": [
    "#### Create the PyTorch Dataset and DataLoader:"
   ]
  },
  {
   "cell_type": "code",
   "execution_count": 162,
   "metadata": {},
   "outputs": [],
   "source": [
    "class TimeSeriesDataset(Dataset):\n",
    "    def __init__(self, features, targets):\n",
    "        self.features = features\n",
    "        self.targets = targets\n",
    "\n",
    "    def __len__(self):\n",
    "        return len(self.features)\n",
    "\n",
    "    def __getitem__(self, idx):\n",
    "        return self.features[idx], self.targets[idx]\n",
    "\n",
    "# Create datasets\n",
    "train_dataset = TimeSeriesDataset(X_train_tensor, y_train_tensor)\n",
    "val_dataset = TimeSeriesDataset(X_val_tensor, y_val_tensor)\n",
    "test_dataset = TimeSeriesDataset(X_test_tensor, y_test_tensor)\n",
    "\n",
    "# Create dataloaders\n",
    "batch_size = 32\n",
    "train_loader = DataLoader(train_dataset, batch_size=batch_size, shuffle=True)\n",
    "val_loader = DataLoader(val_dataset, batch_size=batch_size)\n",
    "test_loader = DataLoader(test_dataset, batch_size=batch_size)"
   ]
  },
  {
   "cell_type": "markdown",
   "metadata": {},
   "source": [
    "### Define the LSTM model:"
   ]
  },
  {
   "cell_type": "code",
   "execution_count": 163,
   "metadata": {},
   "outputs": [],
   "source": [
    "class LSTMModel(nn.Module):\n",
    "    def __init__(self, input_dim, hidden_dim, output_dim, num_layers):\n",
    "        super(LSTMModel, self).__init__()\n",
    "        self.lstm = nn.LSTM(input_dim, hidden_dim, num_layers, batch_first=True)\n",
    "        self.fc = nn.Linear(hidden_dim, output_dim)\n",
    "\n",
    "    def forward(self, x):\n",
    "        lstm_out, _ = self.lstm(x)\n",
    "        # Take the output of the last time step\n",
    "        last_out = lstm_out[:, -1, :]\n",
    "        return self.fc(last_out)\n",
    "\n",
    "# Define model parameters\n",
    "input_dim = len(features)\n",
    "hidden_dim = 64\n",
    "output_dim = 1\n",
    "num_layers = 2\n",
    "\n",
    "model = LSTMModel(input_dim, hidden_dim, output_dim, num_layers)"
   ]
  },
  {
   "cell_type": "markdown",
   "metadata": {},
   "source": [
    "#### Train the model"
   ]
  },
  {
   "cell_type": "code",
   "execution_count": 164,
   "metadata": {},
   "outputs": [
    {
     "name": "stdout",
     "output_type": "stream",
     "text": [
      "Epoch 1/10, Loss: 0.0005\n",
      "Epoch 2/10, Loss: 0.0005\n",
      "Epoch 3/10, Loss: 0.0005\n",
      "Epoch 4/10, Loss: 0.0005\n",
      "Epoch 5/10, Loss: 0.0005\n",
      "Epoch 6/10, Loss: 0.0005\n",
      "Epoch 7/10, Loss: 0.0005\n",
      "Epoch 8/10, Loss: 0.0005\n",
      "Epoch 9/10, Loss: 0.0005\n",
      "Epoch 10/10, Loss: 0.0005\n"
     ]
    }
   ],
   "source": [
    "criterion = nn.MSELoss()  # Use MSE for regression tasks\n",
    "optimizer = torch.optim.Adam(model.parameters(), lr=0.001)\n",
    "\n",
    "num_epochs = 10\n",
    "for epoch in range(num_epochs):\n",
    "    model.train()\n",
    "    epoch_loss = 0.0\n",
    "\n",
    "    for X_batch, y_batch in train_loader:\n",
    "        optimizer.zero_grad()\n",
    "        y_pred = model(X_batch)\n",
    "        loss = criterion(y_pred, y_batch)\n",
    "        loss.backward()\n",
    "        optimizer.step()\n",
    "        epoch_loss += loss.item()\n",
    "\n",
    "    print(f\"Epoch {epoch+1}/{num_epochs}, Loss: {epoch_loss / len(train_loader):.4f}\")"
   ]
  },
  {
   "cell_type": "markdown",
   "metadata": {},
   "source": [
    "#### Evaluate model"
   ]
  },
  {
   "cell_type": "code",
   "execution_count": 165,
   "metadata": {},
   "outputs": [
    {
     "name": "stdout",
     "output_type": "stream",
     "text": [
      "Shape of test_predictions before inverse transform: (3605, 1)\n",
      "Shape of test_targets before inverse transform: (3605, 1)\n"
     ]
    }
   ],
   "source": [
    "# set model to evaluation mode\n",
    "model.eval()\n",
    "\n",
    "# predict on test set\n",
    "test_predictions = []\n",
    "test_targets = []\n",
    "\n",
    "with torch.no_grad():  # Disable gradient computation\n",
    "    for X_batch, y_batch in test_loader:\n",
    "        y_pred = model(X_batch)  # Forward pass\n",
    "        test_predictions.append(y_pred.numpy())\n",
    "        test_targets.append(y_batch.numpy())\n",
    "\n",
    "# convert predictions and targets from list of arrays to single arrays\n",
    "test_predictions = np.concatenate(test_predictions, axis=0)\n",
    "test_targets = np.concatenate(test_targets, axis=0)\n",
    "print(f\"Shape of test_predictions before inverse transform: {test_predictions.shape}\")\n",
    "print(f\"Shape of test_targets before inverse transform: {test_targets.shape}\")\n",
    "\n",
    "# use the inverse transform predictions and targets\n",
    "test_predictions = target_scaler.inverse_transform(test_predictions)\n",
    "test_targets = target_scaler.inverse_transform(test_targets)"
   ]
  },
  {
   "cell_type": "markdown",
   "metadata": {},
   "source": [
    "#### Calculate performance metrics"
   ]
  },
  {
   "cell_type": "markdown",
   "metadata": {},
   "source": [
    "* Mean Absolute Error (MAE): Average absolute difference between predictions and actual values.\n",
    "* Mean Squared Error (MSE): Average squared difference between predictions and actual values.\n",
    "* Root Mean Squared Error (RMSE): Square root of MSE, on the same scale as the target variable.\n",
    "* R^2 (Coefficient of Determination): Measures how well the model explains the variance in the data."
   ]
  },
  {
   "cell_type": "code",
   "execution_count": 166,
   "metadata": {},
   "outputs": [
    {
     "name": "stdout",
     "output_type": "stream",
     "text": [
      "MAE: 791508.8125\n",
      "MSE: 2684856041472.0000\n",
      "RMSE: 1638553.0329\n",
      "R²: -0.0069\n"
     ]
    }
   ],
   "source": [
    "# calculate metrics\n",
    "mae = mean_absolute_error(test_targets, test_predictions)\n",
    "mse = mean_squared_error(test_targets, test_predictions)\n",
    "rmse = np.sqrt(mse)\n",
    "r2 = r2_score(test_targets, test_predictions)\n",
    "\n",
    "print(f\"MAE: {mae:.4f}\")\n",
    "print(f\"MSE: {mse:.4f}\")\n",
    "print(f\"RMSE: {rmse:.4f}\")\n",
    "print(f\"R²: {r2:.4f}\")"
   ]
  },
  {
   "cell_type": "markdown",
   "metadata": {},
   "source": [
    "#### Visualize predictions vs actuals"
   ]
  },
  {
   "cell_type": "code",
   "execution_count": 167,
   "metadata": {},
   "outputs": [
    {
     "data": {
      "image/png": "[encoded data removed]",
      "text/plain": [
       "<Figure size 1200x600 with 1 Axes>"
      ]
     },
     "metadata": {},
     "output_type": "display_data"
    }
   ],
   "source": [
    "# plot actual vs predicted\n",
    "plt.figure(figsize=(12, 6))\n",
    "plt.plot(test_targets, label='Actual', alpha=0.7)\n",
    "plt.plot(test_predictions, label='Predicted', alpha=0.7)\n",
    "plt.legend()\n",
    "plt.title(\"Actual vs Predicted Values\")\n",
    "plt.xlabel(\"Time Step\")\n",
    "plt.ylabel(\"Target Variable\")\n",
    "plt.show()"
   ]
  },
  {
   "cell_type": "code",
   "execution_count": 168,
   "metadata": {},
   "outputs": [
    {
     "data": {
      "image/png": "[encoded data removed]",
      "text/plain": [
       "<Figure size 800x800 with 1 Axes>"
      ]
     },
     "metadata": {},
     "output_type": "display_data"
    }
   ],
   "source": [
    "plt.figure(figsize=(8, 8))\n",
    "plt.scatter(test_targets, test_predictions, alpha=0.5)\n",
    "plt.plot([min(test_targets), \n",
    "          max(test_targets)], \n",
    "          [min(test_targets), \n",
    "           max(test_targets)], \n",
    "           'r--') # Diagonal line\n",
    "plt.title(\"Predicted vs Actual Values\")\n",
    "plt.xlabel(\"Actual\")\n",
    "plt.ylabel(\"Predicted\")\n",
    "plt.show()"
   ]
  },
  {
   "cell_type": "markdown",
   "metadata": {},
   "source": [
    "#### Save model"
   ]
  },
  {
   "cell_type": "code",
   "execution_count": null,
   "metadata": {},
   "outputs": [],
   "source": [
    "torch.save(model.state_dict(), \"lstm_model.pth\")"
   ]
  },
  {
   "cell_type": "code",
   "execution_count": null,
   "metadata": {},
   "outputs": [],
   "source": [
    "# load model\n",
    "# model.load_state_dict(torch.load(\"lstm_model.pth\"))\n",
    "# model.eval()  # Set to evaluation mode"
   ]
  },
  {
   "cell_type": "code",
   "execution_count": null,
   "metadata": {},
   "outputs": [],
   "source": []
  },
  {
   "cell_type": "code",
   "execution_count": null,
   "metadata": {},
   "outputs": [],
   "source": []
  },
  {
   "cell_type": "code",
   "execution_count": 17,
   "metadata": {},
   "outputs": [],
   "source": [
    "class TimeSeriesDataset(Dataset):\n",
    "    def __init__(self, data, seq_len):\n",
    "        self.data = data\n",
    "        self.seq_len = seq_len\n",
    "\n",
    "    def __len__(self):\n",
    "        return len(self.data) - self.seq_len\n",
    "\n",
    "    def __getitem__(self, idx):\n",
    "        x = self.data[idx:idx+self.seq_len, :-1]\n",
    "        y = self.data[idx+self.seq_len, -1]\n",
    "        return torch.tensor(x, dtype=torch.float32), torch.tensor(y, dtype=torch.float32)\n",
    "\n",
    "seq_len = 10\n",
    "dataset = TimeSeriesDataset(data, seq_len)\n",
    "dataloader = DataLoader(dataset, batch_size=32, shuffle=True)"
   ]
  },
  {
   "cell_type": "markdown",
   "metadata": {},
   "source": [
    "#### Define the LSTM model"
   ]
  },
  {
   "cell_type": "markdown",
   "metadata": {},
   "source": [
    "Create the LSTM-based regression model in PyTorch:"
   ]
  },
  {
   "cell_type": "code",
   "execution_count": null,
   "metadata": {},
   "outputs": [],
   "source": [
    "class LSTMModel(nn.Module):\n",
    "    def __init__(self, input_dim, hidden_dim, output_dim, num_layers):\n",
    "        super(LSTMModel, self).__init__()\n",
    "        self.lstm = nn.LSTM(input_dim, hidden_dim, num_layers, batch_first=True)\n",
    "        self.fc = nn.Linear(hidden_dim, output_dim)\n",
    "\n",
    "    def forward(self, x):\n",
    "        out, _ = self.lstm(x)  # LSTM outputs (out, hidden_state)\n",
    "        out = self.fc(out[:, -1, :])  # Use the last time step's output\n",
    "        return out\n",
    "\n",
    "# Model parameters\n",
    "input_dim = data.shape[1] - 1  # Number of predictors\n",
    "hidden_dim = 50\n",
    "output_dim = 1  # Predicting `annual$`\n",
    "num_layers = 2\n",
    "\n",
    "model = LSTMModel(input_dim, hidden_dim, output_dim, num_layers)"
   ]
  },
  {
   "cell_type": "markdown",
   "metadata": {},
   "source": [
    "Define loss and optimizer:"
   ]
  },
  {
   "cell_type": "code",
   "execution_count": 15,
   "metadata": {},
   "outputs": [],
   "source": [
    "criterion = nn.MSELoss()\n",
    "optimizer = torch.optim.Adam(model.parameters(), lr=0.001)"
   ]
  },
  {
   "cell_type": "markdown",
   "metadata": {},
   "source": [
    "### Train the model"
   ]
  },
  {
   "cell_type": "code",
   "execution_count": 16,
   "metadata": {},
   "outputs": [
    {
     "ename": "InvalidIndexError",
     "evalue": "(slice(20588, 20598, None), slice(None, -1, None))",
     "output_type": "error",
     "traceback": [
      "\u001b[0;31m---------------------------------------------------------------------------\u001b[0m",
      "\u001b[0;31mKeyError\u001b[0m                                  Traceback (most recent call last)",
      "File \u001b[0;32m/Applications/Anaconda/anaconda3/envs/timeseries/lib/python3.12/site-packages/pandas/core/indexes/base.py:3805\u001b[0m, in \u001b[0;36mIndex.get_loc\u001b[0;34m(self, key)\u001b[0m\n\u001b[1;32m   3804\u001b[0m \u001b[38;5;28;01mtry\u001b[39;00m:\n\u001b[0;32m-> 3805\u001b[0m     \u001b[38;5;28;01mreturn\u001b[39;00m \u001b[38;5;28;43mself\u001b[39;49m\u001b[38;5;241;43m.\u001b[39;49m\u001b[43m_engine\u001b[49m\u001b[38;5;241;43m.\u001b[39;49m\u001b[43mget_loc\u001b[49m\u001b[43m(\u001b[49m\u001b[43mcasted_key\u001b[49m\u001b[43m)\u001b[49m\n\u001b[1;32m   3806\u001b[0m \u001b[38;5;28;01mexcept\u001b[39;00m \u001b[38;5;167;01mKeyError\u001b[39;00m \u001b[38;5;28;01mas\u001b[39;00m err:\n",
      "File \u001b[0;32mindex.pyx:167\u001b[0m, in \u001b[0;36mpandas._libs.index.IndexEngine.get_loc\u001b[0;34m()\u001b[0m\n",
      "File \u001b[0;32mindex.pyx:196\u001b[0m, in \u001b[0;36mpandas._libs.index.IndexEngine.get_loc\u001b[0;34m()\u001b[0m\n",
      "File \u001b[0;32mpandas/_libs/hashtable_class_helper.pxi:7081\u001b[0m, in \u001b[0;36mpandas._libs.hashtable.PyObjectHashTable.get_item\u001b[0;34m()\u001b[0m\n",
      "File \u001b[0;32mpandas/_libs/hashtable_class_helper.pxi:7089\u001b[0m, in \u001b[0;36mpandas._libs.hashtable.PyObjectHashTable.get_item\u001b[0;34m()\u001b[0m\n",
      "\u001b[0;31mKeyError\u001b[0m: (slice(20588, 20598, None), slice(None, -1, None))",
      "\nDuring handling of the above exception, another exception occurred:\n",
      "\u001b[0;31mInvalidIndexError\u001b[0m                         Traceback (most recent call last)",
      "Cell \u001b[0;32mIn[16], line 7\u001b[0m\n\u001b[1;32m      4\u001b[0m model\u001b[38;5;241m.\u001b[39mtrain()\n\u001b[1;32m      5\u001b[0m epoch_loss \u001b[38;5;241m=\u001b[39m \u001b[38;5;241m0.0\u001b[39m\n\u001b[0;32m----> 7\u001b[0m \u001b[43m\u001b[49m\u001b[38;5;28;43;01mfor\u001b[39;49;00m\u001b[43m \u001b[49m\u001b[43mbatch_idx\u001b[49m\u001b[43m,\u001b[49m\u001b[43m \u001b[49m\u001b[43m(\u001b[49m\u001b[43mX_batch\u001b[49m\u001b[43m,\u001b[49m\u001b[43m \u001b[49m\u001b[43my_batch\u001b[49m\u001b[43m)\u001b[49m\u001b[43m \u001b[49m\u001b[38;5;129;43;01min\u001b[39;49;00m\u001b[43m \u001b[49m\u001b[38;5;28;43menumerate\u001b[39;49m\u001b[43m(\u001b[49m\u001b[43mdataloader\u001b[49m\u001b[43m)\u001b[49m\u001b[43m:\u001b[49m\n\u001b[1;32m      8\u001b[0m \u001b[43m    \u001b[49m\u001b[43moptimizer\u001b[49m\u001b[38;5;241;43m.\u001b[39;49m\u001b[43mzero_grad\u001b[49m\u001b[43m(\u001b[49m\u001b[43m)\u001b[49m\u001b[43m  \u001b[49m\u001b[38;5;66;43;03m# Reset gradients\u001b[39;49;00m\n\u001b[1;32m      9\u001b[0m \u001b[43m    \u001b[49m\u001b[43my_pred\u001b[49m\u001b[43m \u001b[49m\u001b[38;5;241;43m=\u001b[39;49m\u001b[43m \u001b[49m\u001b[43mmodel\u001b[49m\u001b[43m(\u001b[49m\u001b[43mX_batch\u001b[49m\u001b[43m)\u001b[49m\u001b[43m  \u001b[49m\u001b[38;5;66;43;03m# Forward pass\u001b[39;49;00m\n",
      "File \u001b[0;32m/Applications/Anaconda/anaconda3/envs/timeseries/lib/python3.12/site-packages/torch/utils/data/dataloader.py:701\u001b[0m, in \u001b[0;36m_BaseDataLoaderIter.__next__\u001b[0;34m(self)\u001b[0m\n\u001b[1;32m    698\u001b[0m \u001b[38;5;28;01mif\u001b[39;00m \u001b[38;5;28mself\u001b[39m\u001b[38;5;241m.\u001b[39m_sampler_iter \u001b[38;5;129;01mis\u001b[39;00m \u001b[38;5;28;01mNone\u001b[39;00m:\n\u001b[1;32m    699\u001b[0m     \u001b[38;5;66;03m# TODO(https://github.com/pytorch/pytorch/issues/76750)\u001b[39;00m\n\u001b[1;32m    700\u001b[0m     \u001b[38;5;28mself\u001b[39m\u001b[38;5;241m.\u001b[39m_reset()  \u001b[38;5;66;03m# type: ignore[call-arg]\u001b[39;00m\n\u001b[0;32m--> 701\u001b[0m data \u001b[38;5;241m=\u001b[39m \u001b[38;5;28;43mself\u001b[39;49m\u001b[38;5;241;43m.\u001b[39;49m\u001b[43m_next_data\u001b[49m\u001b[43m(\u001b[49m\u001b[43m)\u001b[49m\n\u001b[1;32m    702\u001b[0m \u001b[38;5;28mself\u001b[39m\u001b[38;5;241m.\u001b[39m_num_yielded \u001b[38;5;241m+\u001b[39m\u001b[38;5;241m=\u001b[39m \u001b[38;5;241m1\u001b[39m\n\u001b[1;32m    703\u001b[0m \u001b[38;5;28;01mif\u001b[39;00m (\n\u001b[1;32m    704\u001b[0m     \u001b[38;5;28mself\u001b[39m\u001b[38;5;241m.\u001b[39m_dataset_kind \u001b[38;5;241m==\u001b[39m _DatasetKind\u001b[38;5;241m.\u001b[39mIterable\n\u001b[1;32m    705\u001b[0m     \u001b[38;5;129;01mand\u001b[39;00m \u001b[38;5;28mself\u001b[39m\u001b[38;5;241m.\u001b[39m_IterableDataset_len_called \u001b[38;5;129;01mis\u001b[39;00m \u001b[38;5;129;01mnot\u001b[39;00m \u001b[38;5;28;01mNone\u001b[39;00m\n\u001b[1;32m    706\u001b[0m     \u001b[38;5;129;01mand\u001b[39;00m \u001b[38;5;28mself\u001b[39m\u001b[38;5;241m.\u001b[39m_num_yielded \u001b[38;5;241m>\u001b[39m \u001b[38;5;28mself\u001b[39m\u001b[38;5;241m.\u001b[39m_IterableDataset_len_called\n\u001b[1;32m    707\u001b[0m ):\n",
      "File \u001b[0;32m/Applications/Anaconda/anaconda3/envs/timeseries/lib/python3.12/site-packages/torch/utils/data/dataloader.py:757\u001b[0m, in \u001b[0;36m_SingleProcessDataLoaderIter._next_data\u001b[0;34m(self)\u001b[0m\n\u001b[1;32m    755\u001b[0m \u001b[38;5;28;01mdef\u001b[39;00m \u001b[38;5;21m_next_data\u001b[39m(\u001b[38;5;28mself\u001b[39m):\n\u001b[1;32m    756\u001b[0m     index \u001b[38;5;241m=\u001b[39m \u001b[38;5;28mself\u001b[39m\u001b[38;5;241m.\u001b[39m_next_index()  \u001b[38;5;66;03m# may raise StopIteration\u001b[39;00m\n\u001b[0;32m--> 757\u001b[0m     data \u001b[38;5;241m=\u001b[39m \u001b[38;5;28;43mself\u001b[39;49m\u001b[38;5;241;43m.\u001b[39;49m\u001b[43m_dataset_fetcher\u001b[49m\u001b[38;5;241;43m.\u001b[39;49m\u001b[43mfetch\u001b[49m\u001b[43m(\u001b[49m\u001b[43mindex\u001b[49m\u001b[43m)\u001b[49m  \u001b[38;5;66;03m# may raise StopIteration\u001b[39;00m\n\u001b[1;32m    758\u001b[0m     \u001b[38;5;28;01mif\u001b[39;00m \u001b[38;5;28mself\u001b[39m\u001b[38;5;241m.\u001b[39m_pin_memory:\n\u001b[1;32m    759\u001b[0m         data \u001b[38;5;241m=\u001b[39m _utils\u001b[38;5;241m.\u001b[39mpin_memory\u001b[38;5;241m.\u001b[39mpin_memory(data, \u001b[38;5;28mself\u001b[39m\u001b[38;5;241m.\u001b[39m_pin_memory_device)\n",
      "File \u001b[0;32m/Applications/Anaconda/anaconda3/envs/timeseries/lib/python3.12/site-packages/torch/utils/data/_utils/fetch.py:52\u001b[0m, in \u001b[0;36m_MapDatasetFetcher.fetch\u001b[0;34m(self, possibly_batched_index)\u001b[0m\n\u001b[1;32m     50\u001b[0m         data \u001b[38;5;241m=\u001b[39m \u001b[38;5;28mself\u001b[39m\u001b[38;5;241m.\u001b[39mdataset\u001b[38;5;241m.\u001b[39m__getitems__(possibly_batched_index)\n\u001b[1;32m     51\u001b[0m     \u001b[38;5;28;01melse\u001b[39;00m:\n\u001b[0;32m---> 52\u001b[0m         data \u001b[38;5;241m=\u001b[39m [\u001b[38;5;28;43mself\u001b[39;49m\u001b[38;5;241;43m.\u001b[39;49m\u001b[43mdataset\u001b[49m\u001b[43m[\u001b[49m\u001b[43midx\u001b[49m\u001b[43m]\u001b[49m \u001b[38;5;28;01mfor\u001b[39;00m idx \u001b[38;5;129;01min\u001b[39;00m possibly_batched_index]\n\u001b[1;32m     53\u001b[0m \u001b[38;5;28;01melse\u001b[39;00m:\n\u001b[1;32m     54\u001b[0m     data \u001b[38;5;241m=\u001b[39m \u001b[38;5;28mself\u001b[39m\u001b[38;5;241m.\u001b[39mdataset[possibly_batched_index]\n",
      "Cell \u001b[0;32mIn[12], line 10\u001b[0m, in \u001b[0;36mTimeSeriesDataset.__getitem__\u001b[0;34m(self, idx)\u001b[0m\n\u001b[1;32m      9\u001b[0m \u001b[38;5;28;01mdef\u001b[39;00m \u001b[38;5;21m__getitem__\u001b[39m(\u001b[38;5;28mself\u001b[39m, idx):\n\u001b[0;32m---> 10\u001b[0m     x \u001b[38;5;241m=\u001b[39m \u001b[38;5;28;43mself\u001b[39;49m\u001b[38;5;241;43m.\u001b[39;49m\u001b[43mdata\u001b[49m\u001b[43m[\u001b[49m\u001b[43midx\u001b[49m\u001b[43m:\u001b[49m\u001b[43midx\u001b[49m\u001b[38;5;241;43m+\u001b[39;49m\u001b[38;5;28;43mself\u001b[39;49m\u001b[38;5;241;43m.\u001b[39;49m\u001b[43mseq_len\u001b[49m\u001b[43m,\u001b[49m\u001b[43m \u001b[49m\u001b[43m:\u001b[49m\u001b[38;5;241;43m-\u001b[39;49m\u001b[38;5;241;43m1\u001b[39;49m\u001b[43m]\u001b[49m\n\u001b[1;32m     11\u001b[0m     y \u001b[38;5;241m=\u001b[39m \u001b[38;5;28mself\u001b[39m\u001b[38;5;241m.\u001b[39mdata[idx\u001b[38;5;241m+\u001b[39m\u001b[38;5;28mself\u001b[39m\u001b[38;5;241m.\u001b[39mseq_len, \u001b[38;5;241m-\u001b[39m\u001b[38;5;241m1\u001b[39m]\n\u001b[1;32m     12\u001b[0m     \u001b[38;5;28;01mreturn\u001b[39;00m torch\u001b[38;5;241m.\u001b[39mtensor(x, dtype\u001b[38;5;241m=\u001b[39mtorch\u001b[38;5;241m.\u001b[39mfloat32), torch\u001b[38;5;241m.\u001b[39mtensor(y, dtype\u001b[38;5;241m=\u001b[39mtorch\u001b[38;5;241m.\u001b[39mfloat32)\n",
      "File \u001b[0;32m/Applications/Anaconda/anaconda3/envs/timeseries/lib/python3.12/site-packages/pandas/core/frame.py:4102\u001b[0m, in \u001b[0;36mDataFrame.__getitem__\u001b[0;34m(self, key)\u001b[0m\n\u001b[1;32m   4100\u001b[0m \u001b[38;5;28;01mif\u001b[39;00m \u001b[38;5;28mself\u001b[39m\u001b[38;5;241m.\u001b[39mcolumns\u001b[38;5;241m.\u001b[39mnlevels \u001b[38;5;241m>\u001b[39m \u001b[38;5;241m1\u001b[39m:\n\u001b[1;32m   4101\u001b[0m     \u001b[38;5;28;01mreturn\u001b[39;00m \u001b[38;5;28mself\u001b[39m\u001b[38;5;241m.\u001b[39m_getitem_multilevel(key)\n\u001b[0;32m-> 4102\u001b[0m indexer \u001b[38;5;241m=\u001b[39m \u001b[38;5;28;43mself\u001b[39;49m\u001b[38;5;241;43m.\u001b[39;49m\u001b[43mcolumns\u001b[49m\u001b[38;5;241;43m.\u001b[39;49m\u001b[43mget_loc\u001b[49m\u001b[43m(\u001b[49m\u001b[43mkey\u001b[49m\u001b[43m)\u001b[49m\n\u001b[1;32m   4103\u001b[0m \u001b[38;5;28;01mif\u001b[39;00m is_integer(indexer):\n\u001b[1;32m   4104\u001b[0m     indexer \u001b[38;5;241m=\u001b[39m [indexer]\n",
      "File \u001b[0;32m/Applications/Anaconda/anaconda3/envs/timeseries/lib/python3.12/site-packages/pandas/core/indexes/base.py:3811\u001b[0m, in \u001b[0;36mIndex.get_loc\u001b[0;34m(self, key)\u001b[0m\n\u001b[1;32m   3806\u001b[0m \u001b[38;5;28;01mexcept\u001b[39;00m \u001b[38;5;167;01mKeyError\u001b[39;00m \u001b[38;5;28;01mas\u001b[39;00m err:\n\u001b[1;32m   3807\u001b[0m     \u001b[38;5;28;01mif\u001b[39;00m \u001b[38;5;28misinstance\u001b[39m(casted_key, \u001b[38;5;28mslice\u001b[39m) \u001b[38;5;129;01mor\u001b[39;00m (\n\u001b[1;32m   3808\u001b[0m         \u001b[38;5;28misinstance\u001b[39m(casted_key, abc\u001b[38;5;241m.\u001b[39mIterable)\n\u001b[1;32m   3809\u001b[0m         \u001b[38;5;129;01mand\u001b[39;00m \u001b[38;5;28many\u001b[39m(\u001b[38;5;28misinstance\u001b[39m(x, \u001b[38;5;28mslice\u001b[39m) \u001b[38;5;28;01mfor\u001b[39;00m x \u001b[38;5;129;01min\u001b[39;00m casted_key)\n\u001b[1;32m   3810\u001b[0m     ):\n\u001b[0;32m-> 3811\u001b[0m         \u001b[38;5;28;01mraise\u001b[39;00m InvalidIndexError(key)\n\u001b[1;32m   3812\u001b[0m     \u001b[38;5;28;01mraise\u001b[39;00m \u001b[38;5;167;01mKeyError\u001b[39;00m(key) \u001b[38;5;28;01mfrom\u001b[39;00m \u001b[38;5;21;01merr\u001b[39;00m\n\u001b[1;32m   3813\u001b[0m \u001b[38;5;28;01mexcept\u001b[39;00m \u001b[38;5;167;01mTypeError\u001b[39;00m:\n\u001b[1;32m   3814\u001b[0m     \u001b[38;5;66;03m# If we have a listlike key, _check_indexing_error will raise\u001b[39;00m\n\u001b[1;32m   3815\u001b[0m     \u001b[38;5;66;03m#  InvalidIndexError. Otherwise we fall through and re-raise\u001b[39;00m\n\u001b[1;32m   3816\u001b[0m     \u001b[38;5;66;03m#  the TypeError.\u001b[39;00m\n",
      "\u001b[0;31mInvalidIndexError\u001b[0m: (slice(20588, 20598, None), slice(None, -1, None))"
     ]
    }
   ],
   "source": [
    "num_epochs = 20\n",
    "\n",
    "for epoch in range(num_epochs):\n",
    "    model.train()\n",
    "    epoch_loss = 0.0\n",
    "\n",
    "    for batch_idx, (X_batch, y_batch) in enumerate(dataloader):\n",
    "        optimizer.zero_grad()  # Reset gradients\n",
    "        y_pred = model(X_batch)  # Forward pass\n",
    "        loss = criterion(y_pred, y_batch.unsqueeze(1))  # Compute loss\n",
    "        loss.backward()  # Backward pass\n",
    "        optimizer.step()  # Update weights\n",
    "\n",
    "        epoch_loss += loss.item()\n",
    "\n",
    "    print(f\"Epoch {epoch+1}/{num_epochs}, Loss: {epoch_loss / len(dataloader):.4f}\")"
   ]
  },
  {
   "cell_type": "markdown",
   "metadata": {},
   "source": [
    "### Make predictions"
   ]
  },
  {
   "cell_type": "code",
   "execution_count": null,
   "metadata": {},
   "outputs": [],
   "source": [
    "model.eval()\n",
    "with torch.no_grad():\n",
    "    test_seq = torch.tensor(test_data[:seq_len, :-1], dtype=torch.float32).unsqueeze(0)\n",
    "    prediction = model(test_seq)\n",
    "    print(f\"Predicted Value: {prediction.item()}\")"
   ]
  },
  {
   "cell_type": "code",
   "execution_count": null,
   "metadata": {},
   "outputs": [],
   "source": []
  },
  {
   "cell_type": "code",
   "execution_count": null,
   "metadata": {},
   "outputs": [],
   "source": []
  },
  {
   "cell_type": "code",
   "execution_count": null,
   "metadata": {},
   "outputs": [],
   "source": []
  }
 ],
 "metadata": {
  "kernelspec": {
   "display_name": "timeseries",
   "language": "python",
   "name": "python3"
  },
  "language_info": {
   "codemirror_mode": {
    "name": "ipython",
    "version": 3
   },
   "file_extension": ".py",
   "mimetype": "text/x-python",
   "name": "python",
   "nbconvert_exporter": "python",
   "pygments_lexer": "ipython3",
   "version": "3.12.8"
  }
 },
 "nbformat": 4,
 "nbformat_minor": 2
}
